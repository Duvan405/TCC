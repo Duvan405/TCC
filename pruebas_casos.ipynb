{
 "cells": [
  {
   "cell_type": "code",
   "execution_count": 10,
   "metadata": {},
   "outputs": [],
   "source": [
    "from CASOS import C1B1C as B1C1 #type: ignore\n",
    "from CASOS import C1A as A1 #type: ignore\n",
    "from CASOS import C2B2C as B2C2 #type: ignore\n",
    "from CASOS import C2A as A2 #type: ignore\n",
    "from CASOS import C3A3B3C as A3B3C3 #type: ignore"
   ]
  },
  {
   "cell_type": "code",
   "execution_count": 11,
   "metadata": {},
   "outputs": [],
   "source": [
    "import numpy as np\n",
    "import pandas as pd\n",
    "\n"
   ]
  },
  {
   "cell_type": "code",
   "execution_count": 12,
   "metadata": {},
   "outputs": [
    {
     "ename": "ValueError",
     "evalue": "could not broadcast input array from shape (1000000,) into shape (1000,)",
     "output_type": "error",
     "traceback": [
      "\u001b[1;31m---------------------------------------------------------------------------\u001b[0m",
      "\u001b[1;31mValueError\u001b[0m                                Traceback (most recent call last)",
      "Cell \u001b[1;32mIn[12], line 5\u001b[0m\n\u001b[0;32m      3\u001b[0m caso \u001b[38;5;241m=\u001b[39m \u001b[38;5;124m'\u001b[39m\u001b[38;5;124m1B\u001b[39m\u001b[38;5;124m'\u001b[39m\n\u001b[0;32m      4\u001b[0m R \u001b[38;5;241m=\u001b[39m [\u001b[38;5;241m1\u001b[39m,\u001b[38;5;241m2\u001b[39m,\u001b[38;5;241m3\u001b[39m,\u001b[38;5;241m4\u001b[39m]\n\u001b[1;32m----> 5\u001b[0m \u001b[38;5;28mprint\u001b[39m(  \u001b[43mB2C2\u001b[49m\u001b[38;5;241;43m.\u001b[39;49m\u001b[43marray_2B2C\u001b[49m\u001b[43m(\u001b[49m\u001b[43mNp\u001b[49m\u001b[43m,\u001b[49m\u001b[43mNr\u001b[49m\u001b[43m,\u001b[49m\u001b[38;5;124;43m'\u001b[39;49m\u001b[38;5;124;43m2B\u001b[39;49m\u001b[38;5;124;43m'\u001b[39;49m\u001b[43m,\u001b[49m\u001b[43mR\u001b[49m\u001b[43m)\u001b[49m)\n",
      "File \u001b[1;32mc:\\Users\\Pós Oscar\\Documents\\Duvan inge pequeño\\Trabalho com Luben\\codigos\\clases_casos\\CASOS.py:181\u001b[0m, in \u001b[0;36mC2B2C.array_2B2C\u001b[1;34m(Np, Nr, caso, R)\u001b[0m\n\u001b[0;32m    179\u001b[0m P\u001b[38;5;241m=\u001b[39mnp\u001b[38;5;241m.\u001b[39mzeros((\u001b[38;5;28mlen\u001b[39m(R),nN))\n\u001b[0;32m    180\u001b[0m \u001b[38;5;28;01mfor\u001b[39;00m i,R \u001b[38;5;129;01min\u001b[39;00m \u001b[38;5;28menumerate\u001b[39m(R):\n\u001b[1;32m--> 181\u001b[0m     \u001b[43mF\u001b[49m\u001b[43m[\u001b[49m\u001b[43mi\u001b[49m\u001b[43m,\u001b[49m\u001b[43m:\u001b[49m\u001b[43m]\u001b[49m,P[i,:]\u001b[38;5;241m=\u001b[39m  C2B2C\u001b[38;5;241m.\u001b[39mfactores_2BC(Np,Nr,R,caso)\n\u001b[0;32m    182\u001b[0m \u001b[38;5;28;01mreturn\u001b[39;00m F,P\n",
      "\u001b[1;31mValueError\u001b[0m: could not broadcast input array from shape (1000000,) into shape (1000,)"
     ]
    }
   ],
   "source": [
    "Np = 1\n",
    "Nr = 2\n",
    "caso = '1B'\n",
    "R = [1,2,3,4]\n",
    "print(  B2C2.array_2B2C(Np,Nr,'2B',R))\n"
   ]
  },
  {
   "cell_type": "code",
   "execution_count": null,
   "metadata": {},
   "outputs": [],
   "source": []
  },
  {
   "cell_type": "code",
   "execution_count": 5,
   "metadata": {},
   "outputs": [
    {
     "name": "stdout",
     "output_type": "stream",
     "text": [
      "[[0. 0. 0. 0.]\n",
      " [0. 0. 1. 0.]\n",
      " [0. 0. 0. 0.]]\n"
     ]
    }
   ],
   "source": [
    "def get_data():\n",
    "    FA1,PA1 = A1.array_1A(Np,Nr,R)\n",
    "    dic_A1 = { }\n",
    "    for i,Re in enumerate(R):\n",
    "        dic_A1[f'P{i}'] = PA1[i,:]\n",
    "        dic_A1[f'F{i}'] = FA1[i,:]\n",
    "    data_A1 = pd.DataFrame(dic_A1)\n",
    "\n",
    "    FB1,PB1 = B1C1.array_1B1C(Np,Nr,'1B',R)\n",
    "    dic_B1 = { }\n",
    "    for i,Re in enumerate(R):\n",
    "        dic_B1[f'P{i}'] = PB1[i,:]\n",
    "        dic_B1[f'F{i}'] = FB1[i,:]\n",
    "    data_B1 = pd.DataFrame(dic_B1)\n",
    "\n",
    "    FC1,PC1 = B1C1.array_1B1C(Np,Nr,'1C',R)\n",
    "    dic_C1 = { }\n",
    "    for i,Re in enumerate(R):\n",
    "        dic_C1[f'P{i}'] = PC1[i,:]\n",
    "        dic_C1[f'F{i}'] = FC1[i,:]\n",
    "    data_C1 = pd.DataFrame(dic_C1)\n",
    "\n",
    "    return data_A1,data_B1,data_C1 \n",
    "\n"
   ]
  },
  {
   "cell_type": "code",
   "execution_count": null,
   "metadata": {},
   "outputs": [],
   "source": []
  }
 ],
 "metadata": {
  "kernelspec": {
   "display_name": "Python 3",
   "language": "python",
   "name": "python3"
  },
  "language_info": {
   "codemirror_mode": {
    "name": "ipython",
    "version": 3
   },
   "file_extension": ".py",
   "mimetype": "text/x-python",
   "name": "python",
   "nbconvert_exporter": "python",
   "pygments_lexer": "ipython3",
   "version": "3.12.0"
  }
 },
 "nbformat": 4,
 "nbformat_minor": 2
}
